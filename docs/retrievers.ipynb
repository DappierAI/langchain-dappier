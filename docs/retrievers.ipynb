{
 "cells": [
  {
   "cell_type": "markdown",
   "id": "e6e1e5d5",
   "metadata": {},
   "source": [
    "# Dappier\n",
    "\n",
    "> [Dappier](https://dappier.com) connects any LLM or your Agentic AI to real-time, rights-cleared, proprietary data from trusted sources, making your AI an expert in anything. Our specialized models include Real-Time Web Search, News, Sports, Financial Stock Market Data, Crypto Data, and exclusive content from premium publishers. Explore a wide range of data models in our marketplace at [marketplace.dappier.com](https://marketplace.dappier.com).\n",
    "\n",
    "> [Dappier](https://dappier.com) delivers enriched, prompt-ready, and contextually relevant data strings, optimized for seamless integration with LangChain. Whether you're building conversational AI, recommendation engines, or intelligent search, Dappier's LLM-agnostic RAG models ensure your AI has access to verified, up-to-date data—without the complexity of building and managing your own retrieval pipeline."
   ]
  },
  {
   "cell_type": "markdown",
   "id": "e49f1e0d",
   "metadata": {},
   "source": [
    "# DappierRetriever\n",
    "\n",
    "This will help you getting started with the Dappier [retriever](/docs/concepts/#retrievers). For detailed documentation of all DappierRetriever features and configurations head to the [API reference](https://api.python.langchain.com/en/latest/retrievers/langchain_dappier.retrievers.Dappier.DappierRetriever.html).\n",
    "\n",
    "### Integration details\n",
    "\n",
    "TODO: Select one of the tables below, as appropriate.\n",
    "\n",
    "1: Bring-your-own data (i.e., index and search a custom corpus of documents):\n",
    "\n",
    "| Retriever | Self-host | Cloud offering | Package |\n",
    "| :--- | :--- | :---: | :---: |\n",
    "[DappierRetriever](https://api.python.langchain.com/en/latest/retrievers/langchain-dappier.retrievers.langchain_dappier.DappierRetriever.html) | ❌ | ❌ | langchain-dappier |\n",
    "\n",
    "2: External index (e.g., constructed from Internet data or similar)):\n",
    "\n",
    "| Retriever | Source | Package |\n",
    "| :--- | :--- | :---: |\n",
    "[DappierRetriever](https://api.python.langchain.com/en/latest/retrievers/langchain-dappier.retrievers.langchain_dappier.DappierRetriever.html) | Source description | langchain-dappier |\n",
    "\n",
    "## Setup\n",
    "\n",
    "Install ``langchain-dappier`` and set environment variable\n",
    "        ``DAPPIER_API_KEY``.\n",
    "\n",
    "        .. code-block:: bash\n",
    "\n",
    "            pip install -U langchain-dappier\n",
    "            export DAPPIER_API_KEY=\"your-api-key\"\n",
    "\n",
    "We also need to set our Dappier API credentials, which can be generated at the [Dappier site.](https://platform.dappier.com/profile/api-keys).\n",
    "\n",
    "We can find the supported data models by heading over to the [Dappier marketplace.](https://platform.dappier.com/marketplace)"
   ]
  },
  {
   "cell_type": "markdown",
   "id": "72ee0c4b-9764-423a-9dbf-95129e185210",
   "metadata": {},
   "source": [
    "If you want to get automated tracing from individual queries, you can also set your [LangSmith](https://docs.smith.langchain.com/) API key by uncommenting below:"
   ]
  },
  {
   "cell_type": "code",
   "execution_count": null,
   "id": "a15d341e-3e26-4ca3-830b-5aab30ed66de",
   "metadata": {},
   "outputs": [],
   "source": [
    "# os.environ[\"LANGSMITH_API_KEY\"] = getpass.getpass(\"Enter your LangSmith API key: \")\n",
    "# os.environ[\"LANGSMITH_TRACING\"] = \"true\""
   ]
  },
  {
   "cell_type": "markdown",
   "id": "0730d6a1-c893-4840-9817-5e5251676d5d",
   "metadata": {},
   "source": [
    "### Installation\n",
    "\n",
    "This retriever lives in the `langchain-dappier` package:"
   ]
  },
  {
   "cell_type": "code",
   "execution_count": 1,
   "id": "652d6238-1f87-422a-b135-f5abbb8652fc",
   "metadata": {},
   "outputs": [
    {
     "name": "stdout",
     "output_type": "stream",
     "text": [
      "\u001b[31mERROR: Could not find a version that satisfies the requirement langchain-dappier (from versions: none)\u001b[0m\u001b[31m\n",
      "\u001b[0m\n",
      "\u001b[1m[\u001b[0m\u001b[34;49mnotice\u001b[0m\u001b[1;39;49m]\u001b[0m\u001b[39;49m A new release of pip is available: \u001b[0m\u001b[31;49m24.2\u001b[0m\u001b[39;49m -> \u001b[0m\u001b[32;49m24.3.1\u001b[0m\n",
      "\u001b[1m[\u001b[0m\u001b[34;49mnotice\u001b[0m\u001b[1;39;49m]\u001b[0m\u001b[39;49m To update, run: \u001b[0m\u001b[32;49m/opt/homebrew/Cellar/jupyterlab/4.2.5_1/libexec/bin/python -m pip install --upgrade pip\u001b[0m\n",
      "\u001b[31mERROR: No matching distribution found for langchain-dappier\u001b[0m\u001b[31m\n",
      "\u001b[0mNote: you may need to restart the kernel to use updated packages.\n"
     ]
    }
   ],
   "source": [
    "%pip install -qU langchain-dappier"
   ]
  },
  {
   "cell_type": "markdown",
   "id": "a38cde65-254d-4219-a441-068766c0d4b5",
   "metadata": {},
   "source": [
    "## Instantiation\n",
    "\n",
    "data_model_id: str\n",
    "    Data model ID, starting with dm_.\n",
    "    You can find the available data model IDs at:\n",
    "    [Dappier marketplace.](https://platform.dappier.com/marketplace)\n",
    "k: int\n",
    "    Number of documents to return.\n",
    "ref: Optional[str]\n",
    "    Site domain where AI recommendations are displayed.\n",
    "num_articles_ref: int\n",
    "    Minimum number of articles from the ref domain specified.\n",
    "    The rest will come from other sites within the RAG model.\n",
    "search_algorithm: Literal[\n",
    "    \"most_recent\",\n",
    "    \"most_recent_semantic\",\n",
    "    \"semantic\",\n",
    "    \"trending\"\n",
    "]\n",
    "    Search algorithm for retrieving articles.\n",
    "api_key: Optional[str]\n",
    "    The API key used to interact with the Dappier APIs."
   ]
  },
  {
   "cell_type": "code",
   "execution_count": null,
   "id": "70cc8e65-2a02-408a-bbc6-8ef649057d82",
   "metadata": {},
   "outputs": [],
   "source": [
    "from langchain_dappier import DappierRetriever\n",
    "\n",
    "retriever = DappierRetriever(\n",
    "    data_model_id=\"dm_01jagy9nqaeer9hxx8z1sk1jx6\"\n",
    ")"
   ]
  },
  {
   "cell_type": "markdown",
   "id": "5c5f2839-4020-424e-9fc9-07777eede442",
   "metadata": {},
   "source": [
    "## Usage"
   ]
  },
  {
   "cell_type": "code",
   "execution_count": null,
   "id": "51a60dbe-9f2e-4e04-bb62-23968f17164a",
   "metadata": {},
   "outputs": [],
   "source": [
    "query = \"latest tech news\"\n",
    "\n",
    "retriever.invoke(query)"
   ]
  },
  {
   "cell_type": "markdown",
   "id": "dfe8aad4-8626-4330-98a9-7ea1ca5d2e0e",
   "metadata": {},
   "source": [
    "## Use within a chain\n",
    "\n",
    "Like other retrievers, DappierRetriever can be incorporated into LLM applications via [chains](/docs/how_to/sequence/).\n",
    "\n",
    "We will need a LLM or chat model:\n",
    "\n",
    "```{=mdx}\n",
    "import ChatModelTabs from \"@theme/ChatModelTabs\";\n",
    "\n",
    "<ChatModelTabs customVarName=\"llm\" />\n",
    "```"
   ]
  },
  {
   "cell_type": "code",
   "execution_count": null,
   "id": "25b647a3-f8f2-4541-a289-7a241e43f9df",
   "metadata": {},
   "outputs": [],
   "source": [
    "# | output: false\n",
    "# | echo: false\n",
    "\n",
    "from langchain_openai import ChatOpenAI\n",
    "\n",
    "llm = ChatOpenAI(model=\"gpt-3.5-turbo-0125\", temperature=0)"
   ]
  },
  {
   "cell_type": "code",
   "execution_count": null,
   "id": "23e11cc9-abd6-4855-a7eb-799f45ca01ae",
   "metadata": {},
   "outputs": [],
   "source": [
    "from langchain_core.output_parsers import StrOutputParser\n",
    "from langchain_core.prompts import ChatPromptTemplate\n",
    "from langchain_core.runnables import RunnablePassthrough\n",
    "\n",
    "prompt = ChatPromptTemplate.from_template(\n",
    "    \"\"\"Answer the question based only on the context provided.\n",
    "\n",
    "Context: {context}\n",
    "\n",
    "Question: {question}\"\"\"\n",
    ")\n",
    "\n",
    "\n",
    "def format_docs(docs):\n",
    "    return \"\\n\\n\".join(doc.page_content for doc in docs)\n",
    "\n",
    "\n",
    "chain = (\n",
    "    {\"context\": retriever | format_docs, \"question\": RunnablePassthrough()}\n",
    "    | prompt\n",
    "    | llm\n",
    "    | StrOutputParser()\n",
    ")"
   ]
  },
  {
   "cell_type": "code",
   "execution_count": null,
   "id": "d47c37dd-5c11-416c-a3b6-bec413cd70e8",
   "metadata": {},
   "outputs": [],
   "source": [
    "chain.invoke(\"What are the key highlights and outcomes from the latest events covered in the article?\")"
   ]
  },
  {
   "cell_type": "markdown",
   "id": "3a5bb5ca-c3ae-4a58-be67-2cd18574b9a3",
   "metadata": {},
   "source": [
    "## API reference\n",
    "\n",
    "For detailed documentation of all DappierRetriever features and configurations head to the [API reference](https://api.python.langchain.com/en/latest/retrievers/langchain_dappier.retrievers.Dappier.DappierRetriever.html)."
   ]
  }
 ],
 "metadata": {
  "kernelspec": {
   "display_name": "Python 3 (ipykernel)",
   "language": "python",
   "name": "python3"
  },
  "language_info": {
   "codemirror_mode": {
    "name": "ipython",
    "version": 3
   },
   "file_extension": ".py",
   "mimetype": "text/x-python",
   "name": "python",
   "nbconvert_exporter": "python",
   "pygments_lexer": "ipython3",
   "version": "3.12.6"
  }
 },
 "nbformat": 4,
 "nbformat_minor": 5
}
